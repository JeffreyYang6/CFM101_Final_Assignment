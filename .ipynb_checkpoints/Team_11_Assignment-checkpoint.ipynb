{
 "cells": [
  {
   "cell_type": "code",
   "execution_count": 1,
   "metadata": {},
   "outputs": [],
   "source": [
    "from IPython.display import display, Math, Latex\n",
    "\n",
    "import pandas as pd\n",
    "import numpy as np\n",
    "import numpy_financial as npf\n",
    "import yfinance as yf\n",
    "import matplotlib.pyplot as plt\n",
    "from datetime import datetime, date"
   ]
  },
  {
   "cell_type": "markdown",
   "metadata": {},
   "source": [
    "## Group Assignment\n",
    "### Team Number: 11\n",
    "### Team Member Names: Jeffrey, Ray, Baldeep\n",
    "### Team Strategy Chosen: RISKY (RISKY OR SAFE)"
   ]
  },
  {
   "cell_type": "markdown",
   "metadata": {},
   "source": [
    "# Initialization of Variables"
   ]
  },
  {
   "cell_type": "code",
   "execution_count": 2,
   "metadata": {},
   "outputs": [],
   "source": [
    "# List of Tickers to Choose From\n",
    "ticker_list = pd.read_csv(\"Tickers.csv\")\n",
    "\n",
    "# Initial Capital (CAD)\n",
    "capital = 750000\n",
    "\n",
    "# Trading Fee\n",
    "trading_fee = 4.95\n",
    "\n",
    "# Restrictions\n",
    "avg_month_vol = 150000\n",
    "min_month_days = 18\n",
    "currency = ['USD', 'CAD']\n",
    "\n",
    "# Number of stocks in our Portfolio\n",
    "num_stocks = 10\n",
    "\n",
    "# Minimum weight for each stock in the portfolio (in decimals)\n",
    "min_weight = 1 / (2 * num_stocks)\n",
    "\n",
    "# Maximum weight for each stock in the portfolio (in decimals)\n",
    "max_weight = 0.2\n",
    "\n",
    "# Day that we will purchase stocks for our portfolio\n",
    "purchase_date = '2023-11-25'"
   ]
  },
  {
   "cell_type": "code",
   "execution_count": 3,
   "metadata": {},
   "outputs": [],
   "source": [
    "# Portfolios\n",
    "Portfolio_Final = pd.DataFrame()\n",
    "Stocks_Final = pd.DataFrame()"
   ]
  },
  {
   "cell_type": "code",
   "execution_count": null,
   "metadata": {},
   "outputs": [],
   "source": []
  },
  {
   "cell_type": "markdown",
   "metadata": {},
   "source": [
    "# 2. Filtering the tickers"
   ]
  },
  {
   "cell_type": "markdown",
   "metadata": {},
   "source": [
    "# Before creating our portfolio of stocks, we must first create a filter function to filter out unwanted tickers for this assignment. \n",
    "\n",
    "We have to consider:\n",
    "1) Are the stocks delisted?\n",
    "2) Are the stocks denominated in USD or CAD?\n",
    "3) Do the months have at least 18 trading days?\n",
    "4) Do the stocks have an average monthly volume of at least 150 000 shares? \n",
    "\n",
    "\n",
    "1) To do this, we loop through every ticker in the ticker_lst and check if calling fast_info produces an error. If it produces an error, we know the stock is delisted, so we don't add that ticker to the new ticker list. \n",
    "\n",
    "2) We get the fast_info of the stock and check if the currency is either USD or CAD. If it is, we add it to the new ticker list. \n",
    "\n",
    "3) We use a stock index from the TSX and another from the NYSE and concat the historical data together such that only the days that appear in both are kept. Then, we loop through every month and count the total number of days. If the number of days is less than 18, then we add it to a list and remove the month from the dataframes later. \n",
    "\n",
    "4) Using the historical data, we calculate the average monthly volume for each stock by looping through all the valid stocks and then using the mean function. If the average monthly volume is less than 150 000, then we remove the stock from the stock list. "
   ]
  },
  {
   "cell_type": "code",
   "execution_count": 5,
   "metadata": {},
   "outputs": [
    {
     "name": "stdout",
     "output_type": "stream",
     "text": [
      "AGN is not a valid ticker\n",
      "CELG is not a valid ticker\n",
      "MON is not a valid ticker\n",
      "RTN is not a valid ticker\n"
     ]
    },
    {
     "data": {
      "text/plain": [
       "['ABBV',\n",
       " 'ABT',\n",
       " 'ACN',\n",
       " 'AIG',\n",
       " 'AMZN',\n",
       " 'AXP',\n",
       " 'BA',\n",
       " 'BAC',\n",
       " 'BIIB',\n",
       " 'BK',\n",
       " 'BLK',\n",
       " 'BMY',\n",
       " 'C',\n",
       " 'CAT',\n",
       " 'CL',\n",
       " 'KO',\n",
       " 'LLY',\n",
       " 'LMT',\n",
       " 'MO',\n",
       " 'MRK',\n",
       " 'PEP',\n",
       " 'PFE',\n",
       " 'PG',\n",
       " 'PM',\n",
       " 'PYPL',\n",
       " 'QCOM',\n",
       " 'RY.TO',\n",
       " 'SHOP.TO',\n",
       " 'T.TO',\n",
       " 'TD.TO',\n",
       " 'TXN',\n",
       " 'UNH',\n",
       " 'UNP',\n",
       " 'UPS',\n",
       " 'USB']"
      ]
     },
     "execution_count": 5,
     "metadata": {},
     "output_type": "execute_result"
    }
   ],
   "source": [
    "#define start date and end date variables\n",
    "start_date = '2023-01-01'\n",
    "end_date = '2023-10-31'\n",
    "\n",
    "#define holder variables\n",
    "stock_hist_data = []\n",
    "invalid_months = []\n",
    "\n",
    "#produce a list of all the tickers\n",
    "ticker_lst = ticker_list[ticker_list.columns[0]]\n",
    "\n",
    "#filter stocks variable \n",
    "def filter_stocks(ticker_lst):\n",
    "    new_ticker_lst=[]\n",
    "    \n",
    "    #loop through every ticker in the ticker_lst and check if it is listed and has a currency of USD or CAD\n",
    "    for cur_ticker in ticker_lst:\n",
    "        info = yf.Ticker(cur_ticker).fast_info\n",
    "        try:\n",
    "            #check if the currency is USD or CAD\n",
    "            if(info.currency == 'USD' or info.currency == 'CAD'):\n",
    "                new_ticker_lst.append(cur_ticker)\n",
    "        except:\n",
    "            #output a statement if the stock is delisted\n",
    "            print(f\"{cur_ticker} is not a valid ticker\")\n",
    "    \n",
    "    #get the historical data of each ticker and add it to a list\n",
    "    for cur_ticker in new_ticker_lst:\n",
    "        temp_ticker = yf.Ticker(cur_ticker)\n",
    "        hist = temp_ticker.history(start=start_date, end=end_date, interval = '1mo')\n",
    "        stock_hist_data.append(hist)\n",
    "    \n",
    "    cad_index = '^GSPTSE' #S&P/TSX Composite Index (CAD)\n",
    "    usa_index = '^GSPC' #S&P500 Composite Index (USD)\n",
    "    \n",
    "    #loop through every month and check if the month has less than 18 trading days\n",
    "    for cur_month in range(1, 11):\n",
    "        #get the historical dataframes of the two indexes\n",
    "        cad_days = yf.Ticker(cad_index).history(start = str(date(2023, cur_month, 1)), end = str(date(2023, cur_month+1, 1)))\n",
    "        usd_days = yf.Ticker(usa_index).history(start = str(date(2023, cur_month, 1)), end = str(date(2023, cur_month+1, 1)))\n",
    "        #merge the two dataframes and only keep the duplicates\n",
    "        total_days = cad_days.reindex(usd_days.index)\n",
    "        num_days = len(total_days)\n",
    "        if num_days < min_month_days:\n",
    "            invalid_months.append(cur_month)\n",
    "            \n",
    "    #remove the months that have less than 18 trading days\n",
    "    for i in range(len(stock_hist_data)):\n",
    "        cur_hist = stock_hist_data[i]\n",
    "        for month in invalid_months:\n",
    "            if month < 10:\n",
    "                cur_hist.filter(like!=f'2023-0{month}', axis=0)\n",
    "            else:\n",
    "                cur_hist.filter(like != f'2023-{month}', axis=0)\n",
    "    #Calculate the average monthly volume for each stock and remove the stock if it is less than 150 000\n",
    "    for i in range(len(new_ticker_lst)): \n",
    "        cur_ticker = new_ticker_lst[i]\n",
    "        cur_hist = stock_hist_data[i]\n",
    "        avgMonthlyVolume = cur_hist['Volume'].mean()\n",
    "        #check if the average monthly volume is less than 150 000 and remove the stock if it is\n",
    "        if avgMonthlyVolume < avg_month_vol:\n",
    "            new_ticker_lst.remove(cur_ticker)\n",
    "            stock_hist_data.remove(cur_hist)\n",
    "    return new_ticker_lst\n",
    "\n",
    "#call the function\n",
    "filtered_ticker_lst = filter_stocks(ticker_lst)\n",
    "filtered_ticker_lst"
   ]
  },
  {
   "cell_type": "code",
   "execution_count": null,
   "metadata": {},
   "outputs": [],
   "source": []
  },
  {
   "cell_type": "code",
   "execution_count": null,
   "metadata": {},
   "outputs": [],
   "source": []
  },
  {
   "cell_type": "markdown",
   "metadata": {},
   "source": [
    "## Contribution Declaration\n",
    "\n",
    "The following team members made a meaningful contribution to this assignment:\n",
    "\n",
    "Insert Names Here."
   ]
  }
 ],
 "metadata": {
  "kernelspec": {
   "display_name": "cfm1",
   "language": "python",
   "name": "cfm1"
  },
  "language_info": {
   "codemirror_mode": {
    "name": "ipython",
    "version": 3
   },
   "file_extension": ".py",
   "mimetype": "text/x-python",
   "name": "python",
   "nbconvert_exporter": "python",
   "pygments_lexer": "ipython3",
   "version": "3.11.4"
  }
 },
 "nbformat": 4,
 "nbformat_minor": 2
}
