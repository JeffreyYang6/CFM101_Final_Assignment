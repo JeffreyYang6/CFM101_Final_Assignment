{
 "cells": [
  {
   "cell_type": "code",
   "execution_count": 1,
   "metadata": {},
   "outputs": [],
   "source": [
    "from IPython.display import display, Math, Latex\n",
    "\n",
    "import pandas as pd\n",
    "import numpy as np\n",
    "import numpy_financial as npf\n",
    "import yfinance as yf\n",
    "import matplotlib.pyplot as plt\n",
    "from datetime import datetime"
   ]
  },
  {
   "cell_type": "markdown",
   "metadata": {},
   "source": [
    "## Group Assignment\n",
    "### Team Number: 11\n",
    "### Team Member Names: Jeffrey, Ray, Baldeep\n",
    "### Team Strategy Chosen: RISKY (RISKY OR SAFE)"
   ]
  },
  {
   "cell_type": "markdown",
   "metadata": {},
   "source": [
    "# Initialization of Variables"
   ]
  },
  {
   "cell_type": "code",
   "execution_count": null,
   "metadata": {},
   "outputs": [],
   "source": [
    "# List of Tickers to Choose From\n",
    "ticker_list = pd.read_csv(\"Tickers.csv\")\n",
    "\n",
    "# Initial Capital (CAD)\n",
    "capital = 750000\n",
    "\n",
    "# Trading Fee\n",
    "trading_fee = 4.95\n",
    "\n",
    "# Restrictions\n",
    "avg_month_vol = 150000\n",
    "min_month_days = 18\n",
    "currency = ['USD', 'CAD']\n",
    "\n",
    "# Number of stocks in our Portfolio\n",
    "num_stocks = 10\n",
    "\n",
    "# Minimum weight for each stock in the portfolio (in decimals)\n",
    "min_weight = 1 / (2 * num_stocks)\n",
    "\n",
    "# Maximum weight for each stock in the portfolio (in decimals)\n",
    "max_weight = 0.2\n",
    "\n",
    "# Day that we will purchase stocks for our portfolio\n",
    "purchase_date = '2023-11-25'"
   ]
  },
  {
   "cell_type": "code",
   "execution_count": null,
   "metadata": {},
   "outputs": [],
   "source": [
    "# Portfolios\n",
    "Portfolio_Final = pd.DataFrame()\n",
    "Stocks_Final = pd.DataFrame()\n"
   ]
  },
  {
   "cell_type": "code",
   "execution_count": null,
   "metadata": {},
   "outputs": [],
   "source": []
  },
  {
   "cell_type": "markdown",
   "metadata": {},
   "source": [
    "## Contribution Declaration\n",
    "\n",
    "The following team members made a meaningful contribution to this assignment:\n",
    "\n",
    "Insert Names Here."
   ]
  }
 ],
 "metadata": {
  "kernelspec": {
   "display_name": "Python 3 (ipykernel)",
   "language": "python",
   "name": "python3"
  },
  "language_info": {
   "codemirror_mode": {
    "name": "ipython",
    "version": 3
   },
   "file_extension": ".py",
   "mimetype": "text/x-python",
   "name": "python",
   "nbconvert_exporter": "python",
   "pygments_lexer": "ipython3",
   "version": "3.11.4"
  }
 },
 "nbformat": 4,
 "nbformat_minor": 2
}
